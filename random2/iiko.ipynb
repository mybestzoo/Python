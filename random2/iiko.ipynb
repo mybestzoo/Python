{
 "cells": [
  {
   "cell_type": "code",
   "execution_count": 1,
   "metadata": {
    "collapsed": false
   },
   "outputs": [],
   "source": [
    "#!/usr/bin/env python\n",
    "# -*- coding: utf-8 -*-\n",
    "\n",
    "# import modules\n",
    "import pandas as pd\n",
    "import numpy as np"
   ]
  },
  {
   "cell_type": "markdown",
   "metadata": {},
   "source": [
    "Load and preprocess data"
   ]
  },
  {
   "cell_type": "code",
   "execution_count": 3,
   "metadata": {
    "collapsed": false
   },
   "outputs": [],
   "source": [
    "# load excel table as dataframe\n",
    "df = pd.read_excel(open('iiko.xlsx','rb'))\n",
    "\n",
    "# delete Unnamed:6 column\n",
    "del df['Unnamed: 6']\n",
    "\n",
    "# rename columns\n",
    "df.columns = ['Date_Time', 'Check', 'Product_group', 'Product', 'Units', 'Sum_before_discount', 'Sum_after_discount', 'Net_cost', 'Markup']\n",
    "\n",
    "# delete rows containing всего\n",
    "df = df[~(df.Check.str.contains(\"всего\") == False) ]\n",
    "\n",
    "# fill NaNs\n",
    "df = df.fillna(method='ffill')"
   ]
  },
  {
   "cell_type": "code",
   "execution_count": 4,
   "metadata": {
    "collapsed": false
   },
   "outputs": [
    {
     "data": {
      "text/plain": [
       "Index([u'Date_Time', u'Check', u'Product_group', u'Product', u'Units',\n",
       "       u'Sum_before_discount', u'Sum_after_discount', u'Net_cost', u'Markup'],\n",
       "      dtype='object')"
      ]
     },
     "execution_count": 4,
     "metadata": {},
     "output_type": "execute_result"
    }
   ],
   "source": [
    "df.columns"
   ]
  },
  {
   "cell_type": "code",
   "execution_count": 5,
   "metadata": {
    "collapsed": false
   },
   "outputs": [],
   "source": [
    "# convert Date_Time to datetime\n",
    "df['Date_Time'] = pd.to_datetime(df['Date_Time'])\n",
    "# add columns Year, Months, \n",
    "df['Year'] = df['Date_Time'].dt.year\n",
    "df['Month'] = df['Date_Time'].dt.month\n",
    "df['Day'] = df['Date_Time'].dt.day\n",
    "df['Hour'] = df['Date_Time'].dt.hour\n",
    "\n",
    "# add columns Discount, Profit, Price\n",
    "df['Discount'] = df['Sum_before_discount'] - df['Sum_after_discount']\n",
    "df['Profit'] = df['Sum_after_discount']-df['Net_cost']\n",
    "df['Price'] = df['Sum_after_discount']/df['Units']\n",
    "\n",
    "# rearrange columns\n",
    "df = df [['Date_Time', 'Year', 'Month', 'Day', 'Hour', 'Check', 'Product_group', 'Product', 'Units', 'Sum_before_discount', 'Sum_after_discount', 'Net_cost', 'Price', 'Markup', 'Discount', 'Profit']]"
   ]
  },
  {
   "cell_type": "code",
   "execution_count": 7,
   "metadata": {
    "collapsed": false
   },
   "outputs": [],
   "source": [
    "#Save data to csv\n",
    "df.to_csv('iiko.csv',encoding='utf-8')"
   ]
  },
  {
   "cell_type": "markdown",
   "metadata": {},
   "source": [
    "# Data clearance"
   ]
  },
  {
   "cell_type": "markdown",
   "metadata": {},
   "source": [
    "We eliminate records for which Units, Sum and Cost are negative"
   ]
  },
  {
   "cell_type": "code",
   "execution_count": null,
   "metadata": {
    "collapsed": false,
    "scrolled": true
   },
   "outputs": [],
   "source": [
    "df = df[(df['Units']>=0) & (df['Net_cost']>=0) & (df['Sum_before_discount']>=0) & (df['Sum_after_discount']>=0)]"
   ]
  },
  {
   "cell_type": "markdown",
   "metadata": {},
   "source": [
    "# Profitability analysis"
   ]
  },
  {
   "cell_type": "markdown",
   "metadata": {},
   "source": [
    "Profit = Revenue - Cost\n",
    "    1. Profit by product and time\n",
    "\n",
    "Revenue analysis:\n",
    "    1. revenue by product (product group) and time (month, day, hour)\n",
    "    2. revenue = #units*price\n",
    "        2.1 #units by product and time\n",
    "        2.2 price by product and time\n",
    "    3. analyze checks to see which products are purchased better together\n",
    "\n",
    "Cost analysis:\n",
    "    1. cost by product and time\n",
    "    2. cost = #units*unit_cost\n",
    "        2.1 unit_cost by product and time\n",
    "    3. Breakdown costs by fixed and variable costs"
   ]
  },
  {
   "cell_type": "markdown",
   "metadata": {},
   "source": [
    "# Profit"
   ]
  },
  {
   "cell_type": "code",
   "execution_count": null,
   "metadata": {
    "collapsed": false,
    "scrolled": true
   },
   "outputs": [],
   "source": [
    "# profit by purchase\n",
    "df['Profit'].describe()"
   ]
  },
  {
   "cell_type": "code",
   "execution_count": null,
   "metadata": {
    "collapsed": false
   },
   "outputs": [],
   "source": [
    "# total profit\n",
    "df['Profit'].sum()"
   ]
  },
  {
   "cell_type": "markdown",
   "metadata": {},
   "source": [
    "1. Check if there are negative values for profit."
   ]
  },
  {
   "cell_type": "code",
   "execution_count": null,
   "metadata": {
    "collapsed": false,
    "scrolled": false
   },
   "outputs": [],
   "source": [
    "neg_prof = df[df['Profit']<0]\n",
    "#neg_prof.head()\n",
    "neg_prof['Profit'].count()"
   ]
  },
  {
   "cell_type": "markdown",
   "metadata": {},
   "source": [
    "For some products sum_after_disount is leass then net_cost. Let's check how much of the profit is lacking due to this fact."
   ]
  },
  {
   "cell_type": "code",
   "execution_count": null,
   "metadata": {
    "collapsed": false
   },
   "outputs": [],
   "source": [
    "neg_prof['Profit'].sum()"
   ]
  },
  {
   "cell_type": "markdown",
   "metadata": {},
   "source": [
    "Eleminate this records to proceed with analysis. Calculate profit without disounts."
   ]
  },
  {
   "cell_type": "code",
   "execution_count": null,
   "metadata": {
    "collapsed": false
   },
   "outputs": [],
   "source": [
    "#df = df[df['Profit']>=0]\n",
    "#df['Profit'].sum()"
   ]
  },
  {
   "cell_type": "markdown",
   "metadata": {},
   "source": [
    "There's 135106/1178133 = 11% of profit is lacking due to discounts. "
   ]
  },
  {
   "cell_type": "markdown",
   "metadata": {},
   "source": [
    "Next we breakdown profit by month, days and hours."
   ]
  },
  {
   "cell_type": "code",
   "execution_count": null,
   "metadata": {
    "collapsed": false
   },
   "outputs": [],
   "source": [
    "# profit by month\n",
    "grouping = df.groupby(['Month'])\n",
    "y = grouping['Profit'].sum()\n",
    "y.plot(kind='bar')"
   ]
  },
  {
   "cell_type": "code",
   "execution_count": null,
   "metadata": {
    "collapsed": false
   },
   "outputs": [],
   "source": [
    "# profit by day\n",
    "for month in range(3,9):\n",
    "    y = df[df['Month'] == month]\n",
    "    grouping = y.groupby(['Day'])\n",
    "    grouping['Profit'].plot(kind='bar')\n",
    "\n",
    "#profit dynamics\n",
    "#pr_dyn = (y-y.iloc[1])/y.iloc[1]"
   ]
  },
  {
   "cell_type": "code",
   "execution_count": null,
   "metadata": {
    "collapsed": false
   },
   "outputs": [],
   "source": [
    "# profit by hours\n",
    "grouping = df.groupby(['Hour'])\n",
    "y = grouping['Profit'].sum()\n",
    "y.plot(kind='bar')"
   ]
  },
  {
   "cell_type": "markdown",
   "metadata": {},
   "source": [
    "Analysis:\n",
    "1. In period between 15 and 24 day profit drops by 20%.\n",
    "2. Profit is twice higher in afternoon (between 15-23) than in the morning and achieves maximum at evening time."
   ]
  },
  {
   "cell_type": "markdown",
   "metadata": {},
   "source": [
    "Now we breakdown profit by product groups."
   ]
  },
  {
   "cell_type": "code",
   "execution_count": null,
   "metadata": {
    "collapsed": false
   },
   "outputs": [],
   "source": [
    "grouping = df.groupby(['Product_group'])\n",
    "y = grouping['Profit'].sum() # profit by each group\n",
    "y.describe()"
   ]
  },
  {
   "cell_type": "markdown",
   "metadata": {},
   "source": [
    "75% of product groups have profit less than 8000 RUB, which is less than 1% of the total profit (~1200000 RUB). Let's see the profit for top groups."
   ]
  },
  {
   "cell_type": "code",
   "execution_count": null,
   "metadata": {
    "collapsed": false
   },
   "outputs": [],
   "source": [
    "top_groups = y[y>8000]\n",
    "top_groups"
   ]
  },
  {
   "cell_type": "markdown",
   "metadata": {},
   "source": [
    "Check percentage of profit for each group"
   ]
  },
  {
   "cell_type": "code",
   "execution_count": null,
   "metadata": {
    "collapsed": false
   },
   "outputs": [],
   "source": [
    "top_groups*100/df['Profit'].sum()"
   ]
  },
  {
   "cell_type": "markdown",
   "metadata": {},
   "source": [
    "Now analyze major groups by months. Start with ПИВО"
   ]
  },
  {
   "cell_type": "code",
   "execution_count": null,
   "metadata": {
    "collapsed": false
   },
   "outputs": [],
   "source": [
    "vdf = df[df['Product_group'].str.contains('КОКТЕЙЛИ АЛКОГОЛЬНЫЕ'.decode('utf-8'))]\n",
    "# profit by day\n",
    "grouping = vdf.groupby(['Day'])\n",
    "y = grouping['Profit'].sum()\n",
    "y.plot(kind='bar')"
   ]
  },
  {
   "cell_type": "code",
   "execution_count": null,
   "metadata": {
    "collapsed": false,
    "scrolled": true
   },
   "outputs": [],
   "source": [
    "#df.boxplot('Profit', by='Product_group')\n",
    "#plt.yscale('log')"
   ]
  },
  {
   "cell_type": "markdown",
   "metadata": {},
   "source": [
    "# Revenue"
   ]
  },
  {
   "cell_type": "code",
   "execution_count": null,
   "metadata": {
    "collapsed": false
   },
   "outputs": [],
   "source": [
    "# Revenue by month\n",
    "grouping = df.groupby(['Month'])\n",
    "y = grouping['Sum_after_discount'].sum()\n",
    "y.plot(kind='bar')"
   ]
  },
  {
   "cell_type": "code",
   "execution_count": null,
   "metadata": {
    "collapsed": false
   },
   "outputs": [],
   "source": [
    "# Revenue by day\n",
    "grouping = df.groupby(['Day'])\n",
    "y = grouping['Sum_after_discount'].sum()\n",
    "y.plot(kind='bar')"
   ]
  },
  {
   "cell_type": "code",
   "execution_count": null,
   "metadata": {
    "collapsed": false
   },
   "outputs": [],
   "source": [
    "# Revenue by hours\n",
    "grouping = df.groupby(['Hour'])\n",
    "y = grouping['Sum_after_discount'].sum()\n",
    "y.plot(kind='bar')"
   ]
  },
  {
   "cell_type": "markdown",
   "metadata": {},
   "source": [
    "Let's take a look at units sold."
   ]
  },
  {
   "cell_type": "code",
   "execution_count": null,
   "metadata": {
    "collapsed": false
   },
   "outputs": [],
   "source": [
    "# units by month\n",
    "grouping = df.groupby(['Month'])\n",
    "y = grouping['Units'].sum()\n",
    "y.plot(kind='bar')"
   ]
  },
  {
   "cell_type": "code",
   "execution_count": null,
   "metadata": {
    "collapsed": false
   },
   "outputs": [],
   "source": [
    "# units by day\n",
    "grouping = df.groupby(['Day'])\n",
    "y = grouping['Units'].sum()\n",
    "y.plot(kind='bar')"
   ]
  },
  {
   "cell_type": "code",
   "execution_count": null,
   "metadata": {
    "collapsed": false
   },
   "outputs": [],
   "source": [
    "# units by hours\n",
    "grouping = df.groupby(['Hour'])\n",
    "y = grouping['Units'].sum()\n",
    "y.plot(kind='bar')"
   ]
  },
  {
   "cell_type": "markdown",
   "metadata": {},
   "source": [
    "Analysis:\n",
    "    1. Revenue follows the same trend as profit\n",
    "    2. Number of sold units follows the same trend as revenue\n",
    "    3. Conclusion - profit drops in accordance with the number of units sold."
   ]
  }
 ],
 "metadata": {
  "kernelspec": {
   "display_name": "Python 2",
   "language": "python",
   "name": "python2"
  },
  "language_info": {
   "codemirror_mode": {
    "name": "ipython",
    "version": 2
   },
   "file_extension": ".py",
   "mimetype": "text/x-python",
   "name": "python",
   "nbconvert_exporter": "python",
   "pygments_lexer": "ipython2",
   "version": "2.7.10"
  }
 },
 "nbformat": 4,
 "nbformat_minor": 0
}
