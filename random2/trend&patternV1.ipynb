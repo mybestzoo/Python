{
 "cells": [
  {
   "cell_type": "markdown",
   "metadata": {},
   "source": [
    "Resources:\n",
    "\n",
    "https://www.analyticsvidhya.com/blog/2016/02/time-series-forecasting-codes-python/\n",
    "\n",
    "http://michaelpaulschramm.com/simple-time-series-trend-analysis/"
   ]
  },
  {
   "cell_type": "code",
   "execution_count": null,
   "metadata": {
    "collapsed": true
   },
   "outputs": [],
   "source": [
    "#!/usr/bin/env python\n",
    "# -*- coding: utf-8 -*-\n",
    "\n",
    "# import modules\n",
    "import pandas as pd\n",
    "import numpy as np\n",
    "import matplotlib.pylab as plt"
   ]
  },
  {
   "cell_type": "markdown",
   "metadata": {},
   "source": [
    "# Load and preprocess data"
   ]
  },
  {
   "cell_type": "code",
   "execution_count": null,
   "metadata": {
    "collapsed": true
   },
   "outputs": [],
   "source": [
    "# load excel table as dataframe\n",
    "df = pd.read_excel(open('iiko.xlsx','rb'))\n",
    "\n",
    "# delete Unnamed:6 column\n",
    "del df['Unnamed: 6']\n",
    "\n",
    "# rename columns\n",
    "df.columns = ['Date_Time', 'Check', 'Product_group', 'Product', 'Units', 'Sum_before_discount', 'Sum_after_discount', 'Net_cost', 'Markup']\n",
    "\n",
    "# delete rows containing всего\n",
    "df = df[~(df.Check.str.contains(\"всего\") == False) ]\n",
    "\n",
    "# fill NaNs\n",
    "df = df.fillna(method='ffill')\n",
    "\n",
    "# convert Date_Time to datetime\n",
    "df['Date_Time'] = pd.to_datetime(df['Date_Time'])\n",
    "# add columns Date, Year, Months, Day, Hour\n",
    "df['Date'] = df['Date_Time'].dt.date\n",
    "df['Weekday'] = df['Date_Time'].dt.weekday\n",
    "df['Year'] = df['Date_Time'].dt.year\n",
    "df['Month'] = df['Date_Time'].dt.month\n",
    "df['Day'] = df['Date_Time'].dt.day\n",
    "df['Hour'] = df['Date_Time'].dt.hour\n",
    "\n",
    "# add columns Discount, Profit, Price\n",
    "df['Discount'] = df['Sum_before_discount'] - df['Sum_after_discount']\n",
    "df['Profit'] = df['Sum_after_discount']-df['Net_cost']\n",
    "df['Price'] = df['Sum_after_discount']/df['Units']\n",
    "\n",
    "# rearrange columns\n",
    "df = df [['Date_Time', 'Date', 'Weekday', 'Year', 'Month', 'Day', 'Hour', 'Check', 'Product_group', 'Product', 'Units', 'Sum_before_discount', 'Sum_after_discount', 'Net_cost', 'Price', 'Markup', 'Discount', 'Profit']]\n",
    "\n",
    "# Data Clearance\n",
    "df = df[(df['Units']>=0) & (df['Net_cost']>=0) & (df['Sum_before_discount']>=0) & (df['Sum_after_discount']>=0)]\n",
    "# drop March (not enough data)\n",
    "df = df[df['Month']>3]"
   ]
  },
  {
   "cell_type": "markdown",
   "metadata": {},
   "source": [
    "# Revenue as Time Series"
   ]
  },
  {
   "cell_type": "markdown",
   "metadata": {},
   "source": [
    "Visualize revenues"
   ]
  },
  {
   "cell_type": "code",
   "execution_count": null,
   "metadata": {
    "collapsed": true
   },
   "outputs": [],
   "source": [
    "# group by date_time\n",
    "grouping = df.groupby(['Date_Time'])\n",
    "ts = grouping['Sum_after_discount'].sum()\n",
    "\n",
    "# resample to weeks\n",
    "ts = ts.resample('W').sum()\n",
    "ts[np.isnan(ts)] = 0\n",
    "\n",
    "#plot revenues\n",
    "ts.plot(figsize=(12,6))"
   ]
  },
  {
   "cell_type": "markdown",
   "metadata": {},
   "source": [
    "# Trend and monthly pattern analysis"
   ]
  },
  {
   "cell_type": "code",
   "execution_count": null,
   "metadata": {
    "collapsed": true
   },
   "outputs": [],
   "source": [
    "#Check stationarity of ts by rolling statistics and Dickey-Fuller Test\n",
    "# function for rolling mean,std and Dickey-Fuller test\n",
    "from statsmodels.tsa.stattools import adfuller\n",
    "def test_stationarity(timeseries):\n",
    "    \n",
    "    #Determing rolling statistics\n",
    "    rolmean = timeseries.rolling(window=2).mean()\n",
    "    rolstd = timeseries.rolling(window=2).std()\n",
    "\n",
    "    #Plot rolling statistics:\n",
    "    orig = plt.plot(timeseries, color='blue',label='Original')\n",
    "    mean = plt.plot(rolmean, color='red', label='Rolling Mean')\n",
    "    std = plt.plot(rolstd, color='black', label = 'Rolling Std')\n",
    "    plt.legend(loc='best')\n",
    "    plt.title('Rolling Mean & Standard Deviation')\n",
    "    plt.show(block=False)\n",
    "    \n",
    "    #Perform Dickey-Fuller test:\n",
    "    print 'Results of Dickey-Fuller Test:'\n",
    "    dftest = adfuller(timeseries, autolag='AIC')\n",
    "    dfoutput = pd.Series(dftest[0:4], index=['Test Statistic','p-value','#Lags Used','Number of Observations Used'])\n",
    "    for key,value in dftest[4].items():\n",
    "        dfoutput['Critical Value (%s)'%key] = value\n",
    "    print dfoutput\n",
    "\n",
    "# Analyze trend by Mann-Kendall test\n",
    "\n",
    "from scipy.stats import norm, mstats\n",
    "\n",
    "def mk_test(x, alpha = 0.05):  \n",
    "    \"\"\"   \n",
    "    Input:\n",
    "        x:   a vector of data\n",
    "        alpha: significance level (0.05 default)\n",
    "\n",
    "    Output:\n",
    "        trend: tells the trend (increasing, decreasing or no trend)\n",
    "        h: True (if trend is present) or False (if trend is absence)\n",
    "        p: p value of the significance test\n",
    "        z: normalized test statistics \n",
    "\n",
    "    Examples\n",
    "    --------\n",
    "      >>> x = np.random.rand(100)\n",
    "      >>> trend,h,p,z = mk_test(x,0.05) \n",
    "    \"\"\"\n",
    "    n = len(x)\n",
    "\n",
    "    # calculate S \n",
    "    s = 0\n",
    "    for k in range(n-1):\n",
    "        for j in range(k+1,n):\n",
    "            s += np.sign(x[j] - x[k])\n",
    "\n",
    "    # calculate the unique data\n",
    "    unique_x = np.unique(x)\n",
    "    g = len(unique_x)\n",
    "\n",
    "    # calculate the var(s)\n",
    "    if n == g: # there is no tie\n",
    "        var_s = (n*(n-1)*(2*n+5))/18\n",
    "    else: # there are some ties in data\n",
    "        tp = np.zeros(unique_x.shape)\n",
    "        for i in range(len(unique_x)):\n",
    "            tp[i] = sum(unique_x[i] == x)\n",
    "        var_s = (n*(n-1)*(2*n+5) + np.sum(tp*(tp-1)*(2*tp+5)))/18\n",
    "\n",
    "    if s>0:\n",
    "        z = (s - 1)/np.sqrt(var_s)\n",
    "    elif s == 0:\n",
    "            z = 0\n",
    "    elif s<0:\n",
    "        z = (s + 1)/np.sqrt(var_s)\n",
    "\n",
    "    # calculate the p_value\n",
    "    p = 2*(1-norm.cdf(abs(z))) # two tail test\n",
    "    h = abs(z) > norm.ppf(1-alpha/2) \n",
    "\n",
    "    if (z<0) and h:\n",
    "        trend = 'decreasing'\n",
    "    elif (z>0) and h:\n",
    "        trend = 'increasing'\n",
    "    else:\n",
    "        trend = 'no trend'\n",
    "\n",
    "    return trend, h, p, z\n",
    "    \n",
    "def trend_pattern(timeseries):\n",
    "    \n",
    "    test_stationarity(ts)\n",
    "    #Decompose into trend and season\n",
    "    \n",
    "    from statsmodels.tsa.seasonal import seasonal_decompose\n",
    "    decomposition = seasonal_decompose(ts.values, freq = 4, model = 'additive')\n",
    "    decplot = decomposition.plot()\n",
    "    plt.show()\n",
    "    \n",
    "    #Plot seasonal pattern\n",
    "    pattern = plt.bar(range(5,10), decomposition.seasonal[5:10]-np.min(decomposition.seasonal[5:10]))\n",
    "    \n",
    "    #Analyze trend by Mann-Kendall test\n",
    "    # run trend analysis\n",
    "    trend = decomposition.trend\n",
    "    trend = trend[np.isfinite(trend)]\n",
    "    test_trend,h,p,z = mk_test(trend,alpha=0.05)  \n",
    "    print test_trend, h  \n",
    "    print z, p  "
   ]
  },
  {
   "cell_type": "code",
   "execution_count": null,
   "metadata": {
    "collapsed": true
   },
   "outputs": [],
   "source": [
    "trend_pattern(ts)"
   ]
  }
 ],
 "metadata": {
  "kernelspec": {
   "display_name": "Python 2",
   "language": "python",
   "name": "python2"
  },
  "language_info": {
   "codemirror_mode": {
    "name": "ipython",
    "version": 2
   },
   "file_extension": ".py",
   "mimetype": "text/x-python",
   "name": "python",
   "nbconvert_exporter": "python",
   "pygments_lexer": "ipython2",
   "version": "2.7.10"
  }
 },
 "nbformat": 4,
 "nbformat_minor": 0
}
